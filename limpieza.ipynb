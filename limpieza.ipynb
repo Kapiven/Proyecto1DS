{
 "cells": [
  {
   "cell_type": "markdown",
   "id": "586dc77c",
   "metadata": {},
   "source": [
    "## Obtención y Limpieza de los Datos"
   ]
  },
  {
   "cell_type": "markdown",
   "id": "b0e1553a",
   "metadata": {},
   "source": [
    "### 1 y 2) Obtención de los datos\n",
    "\n",
    "Se aplicaron los filtros necesarios en el sitio del MINEDUC para mostrar únicamente los establecimientos con nivel escolar “Diversificado”. La información fue guardada en pdfs cada uno con el nombre del departamento correspondiente, para luego con ayuda del código convertir los pdf a formato .csv que se utilizará como fuente de datos para el análisis."
   ]
  },
  {
   "cell_type": "markdown",
   "id": "7c9ba6ab",
   "metadata": {},
   "source": [
    "### 3) Descripción del estado de los datos y operaciones de limpieza \n",
    "\n",
    "Estructura inconsistente, las tres tablas tienen estructuras diferentes y un número elevado de columnas (70, 125, 241)\n",
    "También muchos datos aparecen como nombres de columnas, lo que indica que la lectura del csv tomó mal el encabezado, hay muchas columnas innecesarias o vacias que no tienen un nombre significativo\n",
    "La información de filas parece haber sido separada por columnas y además hay varios valores nulos en la mayoría de columnas.\n",
    "\n",
    "Las operaciones de limpieza necesarias serian el establecer correctamente los encabezados, posiblemente eliminar las columnas vacias o innecesarias, unificar saltos de linea en los valores, eliminar columnas duplicadas y limpiar sus nombres para que sean manejables."
   ]
  },
  {
   "cell_type": "markdown",
   "id": "efa38eb5",
   "metadata": {},
   "source": [
    "### 4) Realizar limpieza "
   ]
  },
  {
   "cell_type": "markdown",
   "id": "c54e70af",
   "metadata": {},
   "source": [
    "### 5) Revisión"
   ]
  },
  {
   "cell_type": "markdown",
   "id": "ca71f38f",
   "metadata": {},
   "source": [
    "### 6) Conjunto de datos"
   ]
  },
  {
   "cell_type": "markdown",
   "id": "1a705b90",
   "metadata": {},
   "source": [
    "### 7) Libro de códigos\n",
    "\n",
    "documento de word en proceso"
   ]
  }
 ],
 "metadata": {
  "language_info": {
   "name": "python"
  }
 },
 "nbformat": 4,
 "nbformat_minor": 5
}
